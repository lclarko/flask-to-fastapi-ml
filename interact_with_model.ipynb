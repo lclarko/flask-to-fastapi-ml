{
 "cells": [
  {
   "cell_type": "code",
   "execution_count": 1,
   "metadata": {},
   "outputs": [],
   "source": [
    "import requests\n",
    "LOC = 'http://127.0.0.1:5000/scoring'\n",
    "AWS = 'http://ec2-35-183-246-11.ca-central-1.compute.amazonaws.com:5000/scoring'"
   ]
  },
  {
   "cell_type": "code",
   "execution_count": 5,
   "metadata": {},
   "outputs": [],
   "source": [
    "json_data = {\n",
    "    \"Gender\": \"Male\",\n",
    "    \"Married\": \"No\",\n",
    "    \"Dependents\": \"3+\",\n",
    "    \"Education\": \"Graduate\",\n",
    "    \"Self_Employed\": \"Yes\",\n",
    "    \"ApplicantIncome\": 4,\n",
    "    \"CoapplicantIncome\": 189,\n",
    "    \"LoanAmount\": 300,\n",
    "    \"Loan_Amount_Term\": 360,\n",
    "    \"Credit_History\": 1,\n",
    "    \"Property_Area\": \"Semiurban\"\n",
    "  }"
   ]
  },
  {
   "cell_type": "code",
   "execution_count": 6,
   "metadata": {},
   "outputs": [],
   "source": [
    "# LOCAL\n",
    "\n",
    "r = requests.post(url = LOC, json = json_data) \n",
    "\n",
    "#AWS\n",
    "\n",
    "#r1 = requests.post(url = AWS, json = json_data) "
   ]
  },
  {
   "cell_type": "code",
   "execution_count": 7,
   "metadata": {},
   "outputs": [
    {
     "name": "stdout",
     "output_type": "stream",
     "text": [
      "Local App Prediction [1]\n"
     ]
    }
   ],
   "source": [
    "print('Local App Prediction',r.json())\n",
    "\n",
    "#print('AWS App Prediction',r1.json())"
   ]
  },
  {
   "cell_type": "code",
   "execution_count": null,
   "metadata": {},
   "outputs": [],
   "source": []
  },
  {
   "cell_type": "code",
   "execution_count": null,
   "metadata": {},
   "outputs": [],
   "source": []
  }
 ],
 "metadata": {
  "kernelspec": {
   "display_name": "data_bootcamp",
   "language": "python",
   "name": "data_bootcamp"
  },
  "language_info": {
   "codemirror_mode": {
    "name": "ipython",
    "version": 3
   },
   "file_extension": ".py",
   "mimetype": "text/x-python",
   "name": "python",
   "nbconvert_exporter": "python",
   "pygments_lexer": "ipython3",
   "version": "3.7.8"
  }
 },
 "nbformat": 4,
 "nbformat_minor": 4
}
