{
 "cells": [
  {
   "cell_type": "markdown",
   "metadata": {},
   "source": [
    "# Interact with locally hosted models\n",
    " - Uses requests package to post JSON datato model\n",
    " - Model pridiction is binary\n",
    " - Can also be accomplished via Postman\n",
    " - Can also be accomplished for FastAPI at http://127.0.0.1:8000/docs\n",
    " \n",
    "Disclaimer:\n",
    "- The classification model used below should not be used in any real world scenario.\n",
    "- The purpose of this repo is to assess Flask to FastAPI migration.\n",
    "- The model itself is flawed and one feature in particular is heavily weighted."
   ]
  },
  {
   "cell_type": "code",
   "execution_count": 13,
   "metadata": {},
   "outputs": [],
   "source": [
    "import requests\n",
    "\n",
    "FLASK_LOC = 'http://127.0.0.1:5000/predict'\n",
    "FASTAPI_LOC = 'http://127.0.0.1:8000/predict'"
   ]
  },
  {
   "cell_type": "code",
   "execution_count": 20,
   "metadata": {},
   "outputs": [],
   "source": [
    "# JSON POST to model\n",
    "\n",
    "json_data = {\n",
    "    \"Gender\": \"Male\",\n",
    "    \"Married\": \"Yes\",\n",
    "    \"Dependents\": \"3+\",\n",
    "    \"Education\": \"Graduate\",\n",
    "    \"Self_Employed\": \"Yes\",\n",
    "    \"ApplicantIncome\": 88,\n",
    "    \"CoapplicantIncome\": 128,\n",
    "    \"LoanAmount\": 400,\n",
    "    \"Loan_Amount_Term\": 360,\n",
    "    \"Credit_History\": 1,\n",
    "    \"Property_Area\": \"Semiurban\"\n",
    "  }"
   ]
  },
  {
   "cell_type": "code",
   "execution_count": 21,
   "metadata": {},
   "outputs": [],
   "source": [
    "# FLASK LOCAL\n",
    "r = requests.post(url = FLASK_LOC, json = json_data) \n",
    "\n",
    "# FASTAPI LOCAL\n",
    "r1 = requests.post(url = FASTAPI_LOC, json = json_data) \n",
    "\n",
    "# AWS\n",
    "#r2 = requests.post(url = FLASK_AWS, json = json_data) "
   ]
  },
  {
   "cell_type": "code",
   "execution_count": 22,
   "metadata": {},
   "outputs": [
    {
     "name": "stdout",
     "output_type": "stream",
     "text": [
      "Local App Prediction [1]\n"
     ]
    }
   ],
   "source": [
    "print('Local Flask App Prediction',r.json())"
   ]
  },
  {
   "cell_type": "code",
   "execution_count": 7,
   "metadata": {},
   "outputs": [],
   "source": [
    "print('Local FastAPI App Prediction',r1.json())"
   ]
  }
 ],
 "metadata": {
  "kernelspec": {
   "display_name": "data_bootcamp",
   "language": "python",
   "name": "data_bootcamp"
  },
  "language_info": {
   "codemirror_mode": {
    "name": "ipython",
    "version": 3
   },
   "file_extension": ".py",
   "mimetype": "text/x-python",
   "name": "python",
   "nbconvert_exporter": "python",
   "pygments_lexer": "ipython3",
   "version": "3.7.8"
  }
 },
 "nbformat": 4,
 "nbformat_minor": 4
}
